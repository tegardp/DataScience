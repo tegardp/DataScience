{
 "cells": [
  {
   "cell_type": "code",
   "execution_count": 1,
   "metadata": {
    "colab": {
     "base_uri": "https://localhost:8080/",
     "height": 80
    },
    "colab_type": "code",
    "executionInfo": {
     "elapsed": 3156,
     "status": "ok",
     "timestamp": 1577068832607,
     "user": {
      "displayName": "Tegar Dani",
      "photoUrl": "https://lh3.googleusercontent.com/a-/AAuE7mDIJVyOQUdgFiNSzI1cwNhCSW-hwMdVXk4CFghUtw=s64",
      "userId": "13637718429190739955"
     },
     "user_tz": -540
    },
    "id": "1kNtMrCUJ3P3",
    "outputId": "379be970-a2bd-4d9a-ee1b-4f5377d02be6"
   },
   "outputs": [
    {
     "data": {
      "text/html": [
       "<p style=\"color: red;\">\n",
       "The default version of TensorFlow in Colab will soon switch to TensorFlow 2.x.<br>\n",
       "We recommend you <a href=\"https://www.tensorflow.org/guide/migrate\" target=\"_blank\">upgrade</a> now \n",
       "or ensure your notebook will continue to use TensorFlow 1.x via the <code>%tensorflow_version 1.x</code> magic:\n",
       "<a href=\"https://colab.research.google.com/notebooks/tensorflow_version.ipynb\" target=\"_blank\">more info</a>.</p>\n"
      ],
      "text/plain": [
       "<IPython.core.display.HTML object>"
      ]
     },
     "metadata": {
      "tags": []
     },
     "output_type": "display_data"
    },
    {
     "name": "stdout",
     "output_type": "stream",
     "text": [
      "1.15.0\n"
     ]
    }
   ],
   "source": [
    "from __future__ import absolute_import, division, print_function\n",
    "\n",
    "# Import Tensorflow\n",
    "import tensorflow as tf\n",
    "\n",
    "# Import Helper\n",
    "import pandas as pd\n",
    "import numpy as np\n",
    "import matplotlib.pyplot as plt\n",
    "\n",
    "# Import Progressbar\n",
    "import tqdm\n",
    "import tqdm.auto\n",
    "tqdm.tqdm = tqdm.auto.tqdm\n",
    "\n",
    "print(tf.__version__)\n",
    "tf.enable_eager_execution() # Comment this after upgrade tensorflow 2.0"
   ]
  },
  {
   "cell_type": "code",
   "execution_count": 2,
   "metadata": {
    "colab": {
     "base_uri": "https://localhost:8080/",
     "height": 34
    },
    "colab_type": "code",
    "executionInfo": {
     "elapsed": 3157,
     "status": "ok",
     "timestamp": 1577068832613,
     "user": {
      "displayName": "Tegar Dani",
      "photoUrl": "https://lh3.googleusercontent.com/a-/AAuE7mDIJVyOQUdgFiNSzI1cwNhCSW-hwMdVXk4CFghUtw=s64",
      "userId": "13637718429190739955"
     },
     "user_tz": -540
    },
    "id": "lQ4kgGxQLGyY",
    "outputId": "0b4214d0-0222-46b7-c342-4b3a58e1318e"
   },
   "outputs": [
    {
     "name": "stdout",
     "output_type": "stream",
     "text": [
      "Drive already mounted at /content/gdrive; to attempt to forcibly remount, call drive.mount(\"/content/gdrive\", force_remount=True).\n"
     ]
    }
   ],
   "source": [
    "from google.colab import drive\n",
    "drive.mount('/content/gdrive')"
   ]
  },
  {
   "cell_type": "code",
   "execution_count": null,
   "metadata": {
    "colab": {},
    "colab_type": "code",
    "id": "1_c_JMXMLVIH"
   },
   "outputs": [],
   "source": [
    "df_raw = pd.read_csv(\"gdrive/My Drive/Colab Notebooks/20191223 Digit Recognizer/data/train.csv\")\n",
    "y = df_raw.pop('label')\n",
    "X = df_raw\n",
    "X_test = pd.read_csv(\"gdrive/My Drive/Colab Notebooks/20191223 Digit Recognizer/data/test.csv\")"
   ]
  },
  {
   "cell_type": "markdown",
   "metadata": {
    "colab_type": "text",
    "id": "FQW82UJOno_3"
   },
   "source": [
    "## Preprocess Data"
   ]
  },
  {
   "cell_type": "markdown",
   "metadata": {
    "colab_type": "text",
    "id": "buQcw1h9nr5P"
   },
   "source": [
    "### Normalize Data"
   ]
  },
  {
   "cell_type": "code",
   "execution_count": null,
   "metadata": {
    "colab": {},
    "colab_type": "code",
    "id": "j1bihyJhPNrv"
   },
   "outputs": [],
   "source": [
    "X /= 255\n",
    "X_test /= 255"
   ]
  },
  {
   "cell_type": "markdown",
   "metadata": {
    "colab_type": "text",
    "id": "MAroaiTbnumF"
   },
   "source": [
    "### Reshape"
   ]
  },
  {
   "cell_type": "code",
   "execution_count": null,
   "metadata": {
    "colab": {},
    "colab_type": "code",
    "id": "vg3DbIfphLvz"
   },
   "outputs": [],
   "source": [
    "X = X.values.reshape(-1,28,28,1)\n",
    "X_test = X_test.values.reshape(-1,28,28,1)"
   ]
  },
  {
   "cell_type": "code",
   "execution_count": 6,
   "metadata": {
    "colab": {
     "base_uri": "https://localhost:8080/",
     "height": 34
    },
    "colab_type": "code",
    "executionInfo": {
     "elapsed": 9604,
     "status": "ok",
     "timestamp": 1577068839075,
     "user": {
      "displayName": "Tegar Dani",
      "photoUrl": "https://lh3.googleusercontent.com/a-/AAuE7mDIJVyOQUdgFiNSzI1cwNhCSW-hwMdVXk4CFghUtw=s64",
      "userId": "13637718429190739955"
     },
     "user_tz": -540
    },
    "id": "SV1KNT5iH5nZ",
    "outputId": "e0bbc85c-292f-4df3-bbcf-94a92226236c"
   },
   "outputs": [
    {
     "data": {
      "text/plain": [
       "(42000, 28, 28, 1)"
      ]
     },
     "execution_count": 6,
     "metadata": {
      "tags": []
     },
     "output_type": "execute_result"
    }
   ],
   "source": [
    "X.shape"
   ]
  },
  {
   "cell_type": "markdown",
   "metadata": {
    "colab_type": "text",
    "id": "yNXzo7C2nxrD"
   },
   "source": [
    "### Split Data"
   ]
  },
  {
   "cell_type": "code",
   "execution_count": null,
   "metadata": {
    "colab": {},
    "colab_type": "code",
    "id": "Qlul7qDlj9eu"
   },
   "outputs": [],
   "source": [
    "from sklearn.model_selection import train_test_split"
   ]
  },
  {
   "cell_type": "code",
   "execution_count": null,
   "metadata": {
    "colab": {},
    "colab_type": "code",
    "id": "lqBuZy9Xj6bo"
   },
   "outputs": [],
   "source": [
    "X_train, X_val, y_train, y_val = train_test_split(X, y, test_size = 0.1, random_state=2)"
   ]
  },
  {
   "cell_type": "markdown",
   "metadata": {
    "colab_type": "text",
    "id": "M7wGA2CTn00D"
   },
   "source": [
    "### Check Data"
   ]
  },
  {
   "cell_type": "code",
   "execution_count": 9,
   "metadata": {
    "colab": {
     "base_uri": "https://localhost:8080/",
     "height": 269
    },
    "colab_type": "code",
    "executionInfo": {
     "elapsed": 10423,
     "status": "ok",
     "timestamp": 1577068839903,
     "user": {
      "displayName": "Tegar Dani",
      "photoUrl": "https://lh3.googleusercontent.com/a-/AAuE7mDIJVyOQUdgFiNSzI1cwNhCSW-hwMdVXk4CFghUtw=s64",
      "userId": "13637718429190739955"
     },
     "user_tz": -540
    },
    "id": "aAPhlEMJi5TP",
    "outputId": "cf6e4b0f-9023-48ca-e339-684de934b61e"
   },
   "outputs": [
    {
     "data": {
      "image/png": "[encoded data removed]",
      "text/plain": [
       "<Figure size 432x288 with 2 Axes>"
      ]
     },
     "metadata": {
      "tags": []
     },
     "output_type": "display_data"
    }
   ],
   "source": [
    "plt.figure()\n",
    "plt.imshow(X_train[0][:,:,0])\n",
    "plt.colorbar()\n",
    "plt.grid(False)\n",
    "plt.show()"
   ]
  },
  {
   "cell_type": "code",
   "execution_count": 10,
   "metadata": {
    "colab": {
     "base_uri": "https://localhost:8080/",
     "height": 589
    },
    "colab_type": "code",
    "executionInfo": {
     "elapsed": 12173,
     "status": "ok",
     "timestamp": 1577068841663,
     "user": {
      "displayName": "Tegar Dani",
      "photoUrl": "https://lh3.googleusercontent.com/a-/AAuE7mDIJVyOQUdgFiNSzI1cwNhCSW-hwMdVXk4CFghUtw=s64",
      "userId": "13637718429190739955"
     },
     "user_tz": -540
    },
    "id": "BIE0_iRLIeZ6",
    "outputId": "41b0717f-5988-4dd6-f0c6-0de03830e2d4"
   },
   "outputs": [
    {
     "data": {
      "image/png": "[encoded data removed]",
      "text/plain": [
       "<Figure size 720x720 with 25 Axes>"
      ]
     },
     "metadata": {
      "tags": []
     },
     "output_type": "display_data"
    }
   ],
   "source": [
    "plt.figure(figsize=(10,10))\n",
    "for i in range(25):\n",
    "    plt.subplot(5,5,i+1)\n",
    "    plt.xticks([])\n",
    "    plt.yticks([])\n",
    "    plt.grid(False)\n",
    "    plt.imshow(X_train[i][:,:,0], cmap=plt.cm.binary)\n",
    "    plt.xlabel(y_train.iloc[i])\n",
    "plt.show()"
   ]
  },
  {
   "cell_type": "markdown",
   "metadata": {
    "colab_type": "text",
    "id": "QPJCK7PYn3At"
   },
   "source": [
    "## Building model"
   ]
  },
  {
   "cell_type": "code",
   "execution_count": null,
   "metadata": {
    "colab": {},
    "colab_type": "code",
    "id": "gp6_L4EHXRJG"
   },
   "outputs": [],
   "source": [
    "y_train = np.asarray(y_train) \n",
    "y_val = np.asarray(y_val) "
   ]
  },
  {
   "cell_type": "markdown",
   "metadata": {
    "colab_type": "text",
    "id": "0JLfqa0Wn-Un"
   },
   "source": [
    "## CNN"
   ]
  },
  {
   "cell_type": "code",
   "execution_count": null,
   "metadata": {
    "colab": {},
    "colab_type": "code",
    "id": "SouSya8rUHrw"
   },
   "outputs": [],
   "source": [
    "model = tf.keras.Sequential([\n",
    "    tf.keras.layers.Conv2D(32, (3,3), padding='same', activation=tf.nn.relu,\n",
    "                           input_shape=(28, 28,1)),\n",
    "    tf.keras.layers.MaxPooling2D((2,2), strides=2),\n",
    "    tf.keras.layers.Conv2D(64, (3,3), padding='same', activation=tf.nn.relu),\n",
    "    tf.keras.layers.MaxPooling2D((2,2), strides=2),\n",
    "    tf.keras.layers.Flatten(),\n",
    "    tf.keras.layers.Dense(128, activation=tf.nn.relu),\n",
    "    tf.keras.layers.Dense(10,  activation=tf.nn.softmax)\n",
    "])"
   ]
  },
  {
   "cell_type": "code",
   "execution_count": null,
   "metadata": {
    "colab": {},
    "colab_type": "code",
    "id": "lmyoVZFBV2CE"
   },
   "outputs": [],
   "source": [
    "model.compile(optimizer='adam',\n",
    "              loss='sparse_categorical_crossentropy',\n",
    "              metrics=['accuracy'])"
   ]
  },
  {
   "cell_type": "code",
   "execution_count": 14,
   "metadata": {
    "colab": {
     "base_uri": "https://localhost:8080/",
     "height": 391
    },
    "colab_type": "code",
    "executionInfo": {
     "elapsed": 66164,
     "status": "ok",
     "timestamp": 1577068895664,
     "user": {
      "displayName": "Tegar Dani",
      "photoUrl": "https://lh3.googleusercontent.com/a-/AAuE7mDIJVyOQUdgFiNSzI1cwNhCSW-hwMdVXk4CFghUtw=s64",
      "userId": "13637718429190739955"
     },
     "user_tz": -540
    },
    "id": "hvT-4Z1bU2vk",
    "outputId": "8b25ddb2-caeb-485d-f566-6fc08cb134eb"
   },
   "outputs": [
    {
     "name": "stdout",
     "output_type": "stream",
     "text": [
      "Train on 37800 samples\n",
      "Epoch 1/10\n",
      "37800/37800 [==============================] - 7s 197us/sample - loss: 0.1525 - acc: 0.9520\n",
      "Epoch 2/10\n",
      "37800/37800 [==============================] - 5s 133us/sample - loss: 0.0475 - acc: 0.9851\n",
      "Epoch 3/10\n",
      "37800/37800 [==============================] - 5s 140us/sample - loss: 0.0304 - acc: 0.9904\n",
      "Epoch 4/10\n",
      "37800/37800 [==============================] - 5s 131us/sample - loss: 0.0226 - acc: 0.9924\n",
      "Epoch 5/10\n",
      "37800/37800 [==============================] - 5s 133us/sample - loss: 0.0180 - acc: 0.9943\n",
      "Epoch 6/10\n",
      "37800/37800 [==============================] - 5s 137us/sample - loss: 0.0128 - acc: 0.9959\n",
      "Epoch 7/10\n",
      "37800/37800 [==============================] - 5s 137us/sample - loss: 0.0100 - acc: 0.9969\n",
      "Epoch 8/10\n",
      "37800/37800 [==============================] - 5s 136us/sample - loss: 0.0093 - acc: 0.9969\n",
      "Epoch 9/10\n",
      "37800/37800 [==============================] - 5s 136us/sample - loss: 0.0072 - acc: 0.9976\n",
      "Epoch 10/10\n",
      "37800/37800 [==============================] - 5s 136us/sample - loss: 0.0073 - acc: 0.9975\n"
     ]
    },
    {
     "data": {
      "text/plain": [
       "<tensorflow.python.keras.callbacks.History at 0x7f62b02ef2e8>"
      ]
     },
     "execution_count": 14,
     "metadata": {
      "tags": []
     },
     "output_type": "execute_result"
    }
   ],
   "source": [
    "model.fit(X_train, y_train, epochs=10)"
   ]
  },
  {
   "cell_type": "code",
   "execution_count": 15,
   "metadata": {
    "colab": {
     "base_uri": "https://localhost:8080/",
     "height": 68
    },
    "colab_type": "code",
    "executionInfo": {
     "elapsed": 66585,
     "status": "ok",
     "timestamp": 1577068896090,
     "user": {
      "displayName": "Tegar Dani",
      "photoUrl": "https://lh3.googleusercontent.com/a-/AAuE7mDIJVyOQUdgFiNSzI1cwNhCSW-hwMdVXk4CFghUtw=s64",
      "userId": "13637718429190739955"
     },
     "user_tz": -540
    },
    "id": "JLP9mkL5Vvu5",
    "outputId": "17bec496-6998-47a0-f387-71e86fc6508e"
   },
   "outputs": [
    {
     "name": "stdout",
     "output_type": "stream",
     "text": [
      "4200/1 - 0s - loss: 0.4625 - acc: 0.9874\n",
      "\n",
      "Test accuracy: 0.987381\n"
     ]
    }
   ],
   "source": [
    "test_loss, test_acc = model.evaluate(X_val,  y_val, verbose=2)\n",
    "\n",
    "print('\\nTest accuracy:', test_acc)"
   ]
  },
  {
   "cell_type": "code",
   "execution_count": null,
   "metadata": {
    "colab": {},
    "colab_type": "code",
    "id": "iV11RwgmXy8B"
   },
   "outputs": [],
   "source": [
    "predictions = model.predict(X_test)\n",
    "predictions = np.argmax(predictions,axis = 1)\n",
    "predictions = pd.Series(predictions,name=\"Label\")"
   ]
  },
  {
   "cell_type": "code",
   "execution_count": null,
   "metadata": {
    "colab": {},
    "colab_type": "code",
    "id": "8MGZE08qX5gi"
   },
   "outputs": [],
   "source": [
    "submission = pd.concat([pd.Series(range(1,28001),name = \"ImageId\"),predictions],axis = 1)\n",
    "\n",
    "submission.to_csv(\"gdrive/My Drive/Colab Notebooks/20191223 Digit Recognizer/data/cnn_mnist_datagen.csv\",index=False)"
   ]
  }
 ],
 "metadata": {
  "accelerator": "GPU",
  "colab": {
   "name": "Digit Recognizer.ipynb",
   "provenance": []
  },
  "kernelspec": {
   "display_name": "Python 3",
   "language": "python",
   "name": "python3"
  },
  "language_info": {
   "codemirror_mode": {
    "name": "ipython",
    "version": 3
   },
   "file_extension": ".py",
   "mimetype": "text/x-python",
   "name": "python",
   "nbconvert_exporter": "python",
   "pygments_lexer": "ipython3",
   "version": "3.7.1"
  }
 },
 "nbformat": 4,
 "nbformat_minor": 4
}
