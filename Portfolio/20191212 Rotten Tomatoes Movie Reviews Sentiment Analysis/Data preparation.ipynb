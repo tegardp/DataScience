{
 "cells": [
  {
   "cell_type": "code",
   "execution_count": 2,
   "metadata": {},
   "outputs": [],
   "source": [
    "import pandas as pd"
   ]
  },
  {
   "cell_type": "code",
   "execution_count": 3,
   "metadata": {},
   "outputs": [
    {
     "data": {
      "text/html": [
       "<div>\n",
       "<style scoped>\n",
       "    .dataframe tbody tr th:only-of-type {\n",
       "        vertical-align: middle;\n",
       "    }\n",
       "\n",
       "    .dataframe tbody tr th {\n",
       "        vertical-align: top;\n",
       "    }\n",
       "\n",
       "    .dataframe thead th {\n",
       "        text-align: right;\n",
       "    }\n",
       "</style>\n",
       "<table border=\"1\" class=\"dataframe\">\n",
       "  <thead>\n",
       "    <tr style=\"text-align: right;\">\n",
       "      <th></th>\n",
       "      <th>sentence_index</th>\n",
       "      <th>sentence</th>\n",
       "    </tr>\n",
       "  </thead>\n",
       "  <tbody>\n",
       "    <tr>\n",
       "      <td>0</td>\n",
       "      <td>1</td>\n",
       "      <td>The Rock is destined to be the 21st Century 's...</td>\n",
       "    </tr>\n",
       "    <tr>\n",
       "      <td>1</td>\n",
       "      <td>2</td>\n",
       "      <td>The gorgeously elaborate continuation of `` Th...</td>\n",
       "    </tr>\n",
       "    <tr>\n",
       "      <td>2</td>\n",
       "      <td>3</td>\n",
       "      <td>Effective but too-tepid biopic</td>\n",
       "    </tr>\n",
       "    <tr>\n",
       "      <td>3</td>\n",
       "      <td>4</td>\n",
       "      <td>If you sometimes like to go to the movies to h...</td>\n",
       "    </tr>\n",
       "    <tr>\n",
       "      <td>4</td>\n",
       "      <td>5</td>\n",
       "      <td>Emerges as something rare , an issue movie tha...</td>\n",
       "    </tr>\n",
       "  </tbody>\n",
       "</table>\n",
       "</div>"
      ],
      "text/plain": [
       "   sentence_index                                           sentence\n",
       "0               1  The Rock is destined to be the 21st Century 's...\n",
       "1               2  The gorgeously elaborate continuation of `` Th...\n",
       "2               3                     Effective but too-tepid biopic\n",
       "3               4  If you sometimes like to go to the movies to h...\n",
       "4               5  Emerges as something rare , an issue movie tha..."
      ]
     },
     "execution_count": 3,
     "metadata": {},
     "output_type": "execute_result"
    }
   ],
   "source": [
    "datasetsentences = pd.read_csv('data/01_raw/datasetSentences.txt', sep='\\t')\n",
    "datasetsplit = pd.read_csv('data/01_raw/datasetSplit.txt', sep=',')\n",
    "\n",
    "datasetsentences.head()"
   ]
  },
  {
   "cell_type": "code",
   "execution_count": 5,
   "metadata": {},
   "outputs": [],
   "source": [
    "sentences = {}\n",
    "\n",
    "#fix some typo from sentences\n",
    "for index, row in datasetsentences.iterrows():\n",
    "    row['sentence'] = row['sentence'].replace('-LRB-','(')\n",
    "    row['sentence'] = row['sentence'].replace('-RRB-',')')\n",
    "    row['sentence'] = row['sentence'].replace('Â', '')\n",
    "    row['sentence'] = row['sentence'].replace('Ã©', 'e')\n",
    "    row['sentence'] = row['sentence'].replace('Ã¨', 'e')\n",
    "    row['sentence'] = row['sentence'].replace('Ã¯', 'i')\n",
    "    row['sentence'] = row['sentence'].replace('Ã³', 'o')\n",
    "    row['sentence'] = row['sentence'].replace('Ã´', 'o')\n",
    "    row['sentence'] = row['sentence'].replace('Ã¶', 'o')\n",
    "    row['sentence'] = row['sentence'].replace('Ã±', 'n')\n",
    "    row['sentence'] = row['sentence'].replace('Ã¡', 'a')\n",
    "    row['sentence'] = row['sentence'].replace('Ã¢', 'a')\n",
    "    row['sentence'] = row['sentence'].replace('Ã£', 'a')\n",
    "    row['sentence'] = row['sentence'].replace('\\xc3\\x83\\xc2\\xa0', 'a')\n",
    "    row['sentence'] = row['sentence'].replace('Ã¼', 'u')\n",
    "    row['sentence'] = row['sentence'].replace('Ã»', 'u')\n",
    "    row['sentence'] = row['sentence'].replace('Ã§', 'c')\n",
    "    row['sentence'] = row['sentence'].replace('Ã¦', 'ae')\n",
    "    row['sentence'] = row['sentence'].replace('Ã­', 'i')\n",
    "    row['sentence'] = row['sentence'].replace('\\xa0', ' ')\n",
    "    row['sentence'] = row['sentence'].replace('\\xc2', '')\n",
    "    sentences[row['sentence_index']] = row['sentence']"
   ]
  },
  {
   "cell_type": "code",
   "execution_count": 6,
   "metadata": {},
   "outputs": [
    {
     "data": {
      "text/html": [
       "<div>\n",
       "<style scoped>\n",
       "    .dataframe tbody tr th:only-of-type {\n",
       "        vertical-align: middle;\n",
       "    }\n",
       "\n",
       "    .dataframe tbody tr th {\n",
       "        vertical-align: top;\n",
       "    }\n",
       "\n",
       "    .dataframe thead th {\n",
       "        text-align: right;\n",
       "    }\n",
       "</style>\n",
       "<table border=\"1\" class=\"dataframe\">\n",
       "  <thead>\n",
       "    <tr style=\"text-align: right;\">\n",
       "      <th></th>\n",
       "      <th>sentence_index</th>\n",
       "      <th>splitset_label</th>\n",
       "    </tr>\n",
       "  </thead>\n",
       "  <tbody>\n",
       "    <tr>\n",
       "      <td>0</td>\n",
       "      <td>1</td>\n",
       "      <td>1</td>\n",
       "    </tr>\n",
       "    <tr>\n",
       "      <td>1</td>\n",
       "      <td>2</td>\n",
       "      <td>1</td>\n",
       "    </tr>\n",
       "    <tr>\n",
       "      <td>2</td>\n",
       "      <td>3</td>\n",
       "      <td>2</td>\n",
       "    </tr>\n",
       "    <tr>\n",
       "      <td>3</td>\n",
       "      <td>4</td>\n",
       "      <td>2</td>\n",
       "    </tr>\n",
       "    <tr>\n",
       "      <td>4</td>\n",
       "      <td>5</td>\n",
       "      <td>2</td>\n",
       "    </tr>\n",
       "  </tbody>\n",
       "</table>\n",
       "</div>"
      ],
      "text/plain": [
       "   sentence_index  splitset_label\n",
       "0               1               1\n",
       "1               2               1\n",
       "2               3               2\n",
       "3               4               2\n",
       "4               5               2"
      ]
     },
     "execution_count": 6,
     "metadata": {},
     "output_type": "execute_result"
    }
   ],
   "source": [
    "datasetsplit.head()"
   ]
  },
  {
   "cell_type": "code",
   "execution_count": 7,
   "metadata": {},
   "outputs": [],
   "source": [
    "train={}\n",
    "test={}\n",
    "dev={}\n",
    "sents=[]\n",
    "for index, row in datasetsplit.iterrows():\n",
    "    if row['splitset_label'] == 1:\n",
    "        train[sentences[row['sentence_index']]] = 0\n",
    "        sents.append(sentences[row['sentence_index']])\n",
    "    elif row['splitset_label'] ==2:\n",
    "        test[sentences[row['sentence_index']]] = 0\n",
    "    elif row['splitset_label'] ==3:\n",
    "        dev[sentences[row['sentence_index']]] = 0"
   ]
  },
  {
   "cell_type": "code",
   "execution_count": 8,
   "metadata": {},
   "outputs": [],
   "source": [
    "dictionary = pd.read_csv('data/01_raw/dictionary.txt', sep='|', header = None, names=['phrase', 'phraseId'])\n",
    "sentiment_labels = pd.read_csv('data/01_raw/sentiment_labels.txt', sep='|')"
   ]
  },
  {
   "cell_type": "code",
   "execution_count": 9,
   "metadata": {},
   "outputs": [
    {
     "data": {
      "text/html": [
       "<div>\n",
       "<style scoped>\n",
       "    .dataframe tbody tr th:only-of-type {\n",
       "        vertical-align: middle;\n",
       "    }\n",
       "\n",
       "    .dataframe tbody tr th {\n",
       "        vertical-align: top;\n",
       "    }\n",
       "\n",
       "    .dataframe thead th {\n",
       "        text-align: right;\n",
       "    }\n",
       "</style>\n",
       "<table border=\"1\" class=\"dataframe\">\n",
       "  <thead>\n",
       "    <tr style=\"text-align: right;\">\n",
       "      <th></th>\n",
       "      <th>phrase</th>\n",
       "      <th>phraseId</th>\n",
       "    </tr>\n",
       "  </thead>\n",
       "  <tbody>\n",
       "    <tr>\n",
       "      <td>0</td>\n",
       "      <td>!</td>\n",
       "      <td>0</td>\n",
       "    </tr>\n",
       "    <tr>\n",
       "      <td>1</td>\n",
       "      <td>! '</td>\n",
       "      <td>22935</td>\n",
       "    </tr>\n",
       "    <tr>\n",
       "      <td>2</td>\n",
       "      <td>! ''</td>\n",
       "      <td>18235</td>\n",
       "    </tr>\n",
       "    <tr>\n",
       "      <td>3</td>\n",
       "      <td>! Alas</td>\n",
       "      <td>179257</td>\n",
       "    </tr>\n",
       "    <tr>\n",
       "      <td>4</td>\n",
       "      <td>! Brilliant</td>\n",
       "      <td>22936</td>\n",
       "    </tr>\n",
       "  </tbody>\n",
       "</table>\n",
       "</div>"
      ],
      "text/plain": [
       "        phrase  phraseId\n",
       "0            !         0\n",
       "1          ! '     22935\n",
       "2         ! ''     18235\n",
       "3       ! Alas    179257\n",
       "4  ! Brilliant     22936"
      ]
     },
     "execution_count": 9,
     "metadata": {},
     "output_type": "execute_result"
    }
   ],
   "source": [
    "dictionary.head()"
   ]
  },
  {
   "cell_type": "code",
   "execution_count": 10,
   "metadata": {},
   "outputs": [],
   "source": [
    "train_sent = train.copy()\n",
    "string = ' '.join(sents)\n",
    "\n",
    "#fix some typo from phrase\n",
    "for index, row in dictionary.iterrows():\n",
    "    row['phrase'] = row['phrase'].replace('é','e')\n",
    "    row['phrase'] = row['phrase'].replace('è','e')\n",
    "    row['phrase'] = row['phrase'].replace('ï','i')\n",
    "    row['phrase'] = row['phrase'].replace('í','i')\n",
    "    row['phrase'] = row['phrase'].replace('ó','o')\n",
    "    row['phrase'] = row['phrase'].replace('ô','o')\n",
    "    row['phrase'] = row['phrase'].replace('ö','o')\n",
    "    row['phrase'] = row['phrase'].replace('á','a')\n",
    "    row['phrase'] = row['phrase'].replace('â','a')\n",
    "    row['phrase'] = row['phrase'].replace('ã','a')\n",
    "    row['phrase'] = row['phrase'].replace('à','a')\n",
    "    row['phrase'] = row['phrase'].replace('ü','u')\n",
    "    row['phrase'] = row['phrase'].replace('û','u')\n",
    "    row['phrase'] = row['phrase'].replace('ñ','n')\n",
    "    row['phrase'] = row['phrase'].replace('ç','c')\n",
    "    row['phrase'] = row['phrase'].replace('æ','ae')\n",
    "    row['phrase'] = row['phrase'].replace('\\xa0', ' ')\n",
    "    row['phrase'] = row['phrase'].replace('\\xc2', '')\n",
    "    if row['phrase'] in string:\n",
    "        train[row['phrase']] = row['phraseId']\n",
    "    if row['phrase'] in test:\n",
    "        test[row['phrase']] = row['phraseId']\n",
    "    if row['phrase'] in train_sent:\n",
    "        train_sent[row['phrase']] = row['phraseId']\n",
    "    if row['phrase'] in dev:\n",
    "        dev[row['phrase']] = row['phraseId']"
   ]
  },
  {
   "cell_type": "code",
   "execution_count": 11,
   "metadata": {},
   "outputs": [
    {
     "data": {
      "text/html": [
       "<div>\n",
       "<style scoped>\n",
       "    .dataframe tbody tr th:only-of-type {\n",
       "        vertical-align: middle;\n",
       "    }\n",
       "\n",
       "    .dataframe tbody tr th {\n",
       "        vertical-align: top;\n",
       "    }\n",
       "\n",
       "    .dataframe thead th {\n",
       "        text-align: right;\n",
       "    }\n",
       "</style>\n",
       "<table border=\"1\" class=\"dataframe\">\n",
       "  <thead>\n",
       "    <tr style=\"text-align: right;\">\n",
       "      <th></th>\n",
       "      <th>phrase ids</th>\n",
       "      <th>sentiment values</th>\n",
       "    </tr>\n",
       "  </thead>\n",
       "  <tbody>\n",
       "    <tr>\n",
       "      <td>0</td>\n",
       "      <td>0</td>\n",
       "      <td>0.50000</td>\n",
       "    </tr>\n",
       "    <tr>\n",
       "      <td>1</td>\n",
       "      <td>1</td>\n",
       "      <td>0.50000</td>\n",
       "    </tr>\n",
       "    <tr>\n",
       "      <td>2</td>\n",
       "      <td>2</td>\n",
       "      <td>0.44444</td>\n",
       "    </tr>\n",
       "    <tr>\n",
       "      <td>3</td>\n",
       "      <td>3</td>\n",
       "      <td>0.50000</td>\n",
       "    </tr>\n",
       "    <tr>\n",
       "      <td>4</td>\n",
       "      <td>4</td>\n",
       "      <td>0.42708</td>\n",
       "    </tr>\n",
       "  </tbody>\n",
       "</table>\n",
       "</div>"
      ],
      "text/plain": [
       "   phrase ids  sentiment values\n",
       "0           0           0.50000\n",
       "1           1           0.50000\n",
       "2           2           0.44444\n",
       "3           3           0.50000\n",
       "4           4           0.42708"
      ]
     },
     "execution_count": 11,
     "metadata": {},
     "output_type": "execute_result"
    }
   ],
   "source": [
    "sentiment_labels.head()"
   ]
  },
  {
   "cell_type": "code",
   "execution_count": 12,
   "metadata": {},
   "outputs": [],
   "source": [
    "labels = {}\n",
    "for index, row in sentiment_labels.iterrows():\n",
    "    labels[row['phrase ids']] = float(row['sentiment values'])"
   ]
  },
  {
   "cell_type": "code",
   "execution_count": 13,
   "metadata": {},
   "outputs": [],
   "source": [
    "for key in train:\n",
    "    train[key]=labels[train[key]]\n",
    "for key in train_sent:\n",
    "    train_sent[key]=labels[train_sent[key]]\n",
    "for key in test:\n",
    "    test[key]=labels[test[key]]\n",
    "for key in dev:\n",
    "    dev[key]=labels[dev[key]]"
   ]
  },
  {
   "cell_type": "code",
   "execution_count": 14,
   "metadata": {},
   "outputs": [
    {
     "name": "stdout",
     "output_type": "stream",
     "text": [
      "170132\n",
      "8534\n",
      "2210\n",
      "1100\n"
     ]
    }
   ],
   "source": [
    "print(len(train))\n",
    "print(len(train_sent))\n",
    "print(len(test))\n",
    "print(len(dev))\n"
   ]
  },
  {
   "cell_type": "code",
   "execution_count": 15,
   "metadata": {},
   "outputs": [],
   "source": [
    "train_phrase = pd.DataFrame(list(train.items()), columns=['phrase', 'sentiment'])\n",
    "train_sentence = pd.DataFrame(list(train_sent.items()), columns=['sentence', 'sentiment'])\n",
    "test_set = pd.DataFrame(list(test.items()), columns=['sentence', 'sentiment'])\n",
    "dev_set = pd.DataFrame(list(dev.items()), columns=['sentence', 'sentiment'])"
   ]
  },
  {
   "cell_type": "code",
   "execution_count": 16,
   "metadata": {},
   "outputs": [],
   "source": [
    "train_phrase.to_csv('data/02_processed/train_phrase.csv', index = False)\n",
    "train_sentence.to_csv('data/02_processed/train_sentence.csv', index = False)\n",
    "test_set.to_csv('data/02_processed/test.csv', index = False)\n",
    "dev_set.to_csv('data/02_processed/dev.csv', index = False)"
   ]
  },
  {
   "cell_type": "code",
   "execution_count": 17,
   "metadata": {},
   "outputs": [],
   "source": [
    "#transform sentiment value into category\n",
    "def mapping_sentiment(val):\n",
    "    \"\"\"\n",
    "    number -> number\n",
    "    convert sentiment value into categorical value using the following cut-offs:\n",
    "    [0, 0.2], (0.2, 0.4], (0.4, 0.6], (0.6, 0.8], (0.8, 1.0]\n",
    "    \"\"\"\n",
    "    if val >= 0 and val <= 0.2:\n",
    "        return 1\n",
    "    elif val > 0.2 and val <= 0.4:\n",
    "        return 2\n",
    "    elif val > 0.4 and val <= 0.6:\n",
    "        return 3\n",
    "    elif val > 0.6 and val <= 0.8:\n",
    "        return 4\n",
    "    elif val > 0.8 and val <= 1:\n",
    "        return 5"
   ]
  },
  {
   "cell_type": "code",
   "execution_count": 18,
   "metadata": {},
   "outputs": [],
   "source": [
    "train_phrase['sentiment'] = train_phrase['sentiment'].apply(lambda x: mapping_sentiment(x))\n",
    "train_sentence['sentiment'] = train_sentence['sentiment'].apply(lambda x: mapping_sentiment(x))\n",
    "test_set['sentiment'] = test_set['sentiment'].apply(lambda x: mapping_sentiment(x))\n",
    "dev_set['sentiment'] = dev_set['sentiment'].apply(lambda x: mapping_sentiment(x))"
   ]
  },
  {
   "cell_type": "code",
   "execution_count": 19,
   "metadata": {},
   "outputs": [],
   "source": [
    "train_phrase.to_csv('data/02_processed/cat_train_phrase.csv', index = False)\n",
    "train_sentence.to_csv('data/02_processed/cat_train_sentence.csv', index = False)\n",
    "test_set.to_csv('data/02_processed/cat_test.csv', index = False)\n",
    "dev_set.to_csv('data/02_processed/cat_dev.csv', index = False)"
   ]
  },
  {
   "cell_type": "code",
   "execution_count": null,
   "metadata": {},
   "outputs": [],
   "source": []
  }
 ],
 "metadata": {
  "kernelspec": {
   "display_name": "Python 3",
   "language": "python",
   "name": "python3"
  },
  "language_info": {
   "codemirror_mode": {
    "name": "ipython",
    "version": 3
   },
   "file_extension": ".py",
   "mimetype": "text/x-python",
   "name": "python",
   "nbconvert_exporter": "python",
   "pygments_lexer": "ipython3",
   "version": "3.7.1"
  }
 },
 "nbformat": 4,
 "nbformat_minor": 4
}
