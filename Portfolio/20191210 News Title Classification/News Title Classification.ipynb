{
 "cells": [
  {
   "cell_type": "markdown",
   "metadata": {},
   "source": [
    "# News Title Classification"
   ]
  },
  {
   "cell_type": "markdown",
   "metadata": {},
   "source": [
    "## Objective"
   ]
  },
  {
   "cell_type": "markdown",
   "metadata": {},
   "source": [
    "Make a classifier to classify news title. There are 4 categories:\n",
    "* Business \n",
    "* Entertainment\n",
    "* Medical\n",
    "* Technology."
   ]
  },
  {
   "cell_type": "markdown",
   "metadata": {},
   "source": [
    "## Table of Contents\n",
    "**1. Load and Check Data**\n",
    "\n",
    "    1.1 Importing Data\n",
    "    1.2 Remove Non-title Text\n",
    "    1.3 Remove duplicate\n",
    "    1.4 Normalize Title\n",
    "\n",
    "**2. Data Exploration**\n",
    "\n",
    "    2.1 Check Distribution\n",
    "**3. Data Modelling & Prediction**\n",
    "\n",
    "    3.1 Logistic Regression\n",
    "        - 3.1.1 Prediction\n",
    "        - 3.1.2 Confusion Matrix\n",
    "    3.2 Multinomial Naive Bayes\n",
    "        - 3.2.1 Prediction\n",
    "        - 3.2.2 Confusion Matrix\n",
    "    3.3 Random Forest Classifier\n",
    "        - 3.2.1 Prediction\n",
    "        - 3.2.2 Confusion Matrix\n",
    "    3.4 Stochastic Gradient Descent\n",
    "        - 3.2.1 Prediction\n",
    "        - 3.2.2 Confusion Matrix\n",
    "    3.5 Summary\n",
    "**4. Conclusion**"
   ]
  },
  {
   "cell_type": "markdown",
   "metadata": {},
   "source": [
    "## 1. Load and Check Data"
   ]
  },
  {
   "cell_type": "markdown",
   "metadata": {},
   "source": [
    "### 1.1 Importing Data"
   ]
  },
  {
   "cell_type": "code",
   "execution_count": 1,
   "metadata": {},
   "outputs": [],
   "source": [
    "import pandas as pd\n",
    "import numpy as np"
   ]
  },
  {
   "cell_type": "code",
   "execution_count": 2,
   "metadata": {},
   "outputs": [],
   "source": [
    "import matplotlib.pyplot as plt\n",
    "import seaborn as sns\n",
    "%matplotlib inline"
   ]
  },
  {
   "cell_type": "code",
   "execution_count": 3,
   "metadata": {},
   "outputs": [
    {
     "data": {
      "text/html": [
       "<div>\n",
       "<style scoped>\n",
       "    .dataframe tbody tr th:only-of-type {\n",
       "        vertical-align: middle;\n",
       "    }\n",
       "\n",
       "    .dataframe tbody tr th {\n",
       "        vertical-align: top;\n",
       "    }\n",
       "\n",
       "    .dataframe thead th {\n",
       "        text-align: right;\n",
       "    }\n",
       "</style>\n",
       "<table border=\"1\" class=\"dataframe\">\n",
       "  <thead>\n",
       "    <tr style=\"text-align: right;\">\n",
       "      <th></th>\n",
       "      <th>News Title</th>\n",
       "      <th>Category</th>\n",
       "    </tr>\n",
       "    <tr>\n",
       "      <th>No</th>\n",
       "      <th></th>\n",
       "      <th></th>\n",
       "    </tr>\n",
       "  </thead>\n",
       "  <tbody>\n",
       "    <tr>\n",
       "      <th>1</th>\n",
       "      <td>Google+ rolls out 'Stories' for tricked out ph...</td>\n",
       "      <td>Technology</td>\n",
       "    </tr>\n",
       "    <tr>\n",
       "      <th>2</th>\n",
       "      <td>Dov Charney's Redeeming Quality</td>\n",
       "      <td>Business</td>\n",
       "    </tr>\n",
       "    <tr>\n",
       "      <th>3</th>\n",
       "      <td>White God adds Un Certain Regard to the Palm Dog</td>\n",
       "      <td>Entertainment</td>\n",
       "    </tr>\n",
       "    <tr>\n",
       "      <th>4</th>\n",
       "      <td>Google shows off Androids for wearables, cars,...</td>\n",
       "      <td>Technology</td>\n",
       "    </tr>\n",
       "    <tr>\n",
       "      <th>5</th>\n",
       "      <td>China May new bank loans at 870.8 bln yuan</td>\n",
       "      <td>Business</td>\n",
       "    </tr>\n",
       "  </tbody>\n",
       "</table>\n",
       "</div>"
      ],
      "text/plain": [
       "                                           News Title       Category\n",
       "No                                                                  \n",
       "1   Google+ rolls out 'Stories' for tricked out ph...     Technology\n",
       "2                     Dov Charney's Redeeming Quality       Business\n",
       "3    White God adds Un Certain Regard to the Palm Dog  Entertainment\n",
       "4   Google shows off Androids for wearables, cars,...     Technology\n",
       "5          China May new bank loans at 870.8 bln yuan       Business"
      ]
     },
     "execution_count": 3,
     "metadata": {},
     "output_type": "execute_result"
    }
   ],
   "source": [
    "df = pd.read_excel('data/01_raw/News Title.xls', index_col = 0)\n",
    "\n",
    "df.head()"
   ]
  },
  {
   "cell_type": "markdown",
   "metadata": {},
   "source": [
    "### 1.2 Remove Non-Title Text"
   ]
  },
  {
   "cell_type": "code",
   "execution_count": 4,
   "metadata": {},
   "outputs": [],
   "source": [
    "# copy the original, to be safe\n",
    "df_clean = df.copy()"
   ]
  },
  {
   "cell_type": "code",
   "execution_count": 5,
   "metadata": {},
   "outputs": [
    {
     "data": {
      "text/html": [
       "<div>\n",
       "<style scoped>\n",
       "    .dataframe tbody tr th:only-of-type {\n",
       "        vertical-align: middle;\n",
       "    }\n",
       "\n",
       "    .dataframe tbody tr th {\n",
       "        vertical-align: top;\n",
       "    }\n",
       "\n",
       "    .dataframe thead tr th {\n",
       "        text-align: left;\n",
       "    }\n",
       "\n",
       "    .dataframe thead tr:last-of-type th {\n",
       "        text-align: right;\n",
       "    }\n",
       "</style>\n",
       "<table border=\"1\" class=\"dataframe\">\n",
       "  <thead>\n",
       "    <tr>\n",
       "      <th></th>\n",
       "      <th colspan=\"4\" halign=\"left\">News Title</th>\n",
       "    </tr>\n",
       "    <tr>\n",
       "      <th></th>\n",
       "      <th>count</th>\n",
       "      <th>unique</th>\n",
       "      <th>top</th>\n",
       "      <th>freq</th>\n",
       "    </tr>\n",
       "    <tr>\n",
       "      <th>Category</th>\n",
       "      <th></th>\n",
       "      <th></th>\n",
       "      <th></th>\n",
       "      <th></th>\n",
       "    </tr>\n",
       "  </thead>\n",
       "  <tbody>\n",
       "    <tr>\n",
       "      <th>Business</th>\n",
       "      <td>17707</td>\n",
       "      <td>17557</td>\n",
       "      <td>Posted by Shoaib-ur-Rehman Siddiqui</td>\n",
       "      <td>10</td>\n",
       "    </tr>\n",
       "    <tr>\n",
       "      <th>Entertainment</th>\n",
       "      <td>23961</td>\n",
       "      <td>23774</td>\n",
       "      <td>The article requested cannot be found! Please ...</td>\n",
       "      <td>20</td>\n",
       "    </tr>\n",
       "    <tr>\n",
       "      <th>Medical</th>\n",
       "      <td>7091</td>\n",
       "      <td>7042</td>\n",
       "      <td>'Young' blood injections help aging mice get s...</td>\n",
       "      <td>3</td>\n",
       "    </tr>\n",
       "    <tr>\n",
       "      <th>Technology</th>\n",
       "      <td>16776</td>\n",
       "      <td>16666</td>\n",
       "      <td>Business Wire</td>\n",
       "      <td>5</td>\n",
       "    </tr>\n",
       "  </tbody>\n",
       "</table>\n",
       "</div>"
      ],
      "text/plain": [
       "              News Title         \\\n",
       "                   count unique   \n",
       "Category                          \n",
       "Business           17707  17557   \n",
       "Entertainment      23961  23774   \n",
       "Medical             7091   7042   \n",
       "Technology         16776  16666   \n",
       "\n",
       "                                                                       \n",
       "                                                             top freq  \n",
       "Category                                                               \n",
       "Business                     Posted by Shoaib-ur-Rehman Siddiqui   10  \n",
       "Entertainment  The article requested cannot be found! Please ...   20  \n",
       "Medical        'Young' blood injections help aging mice get s...    3  \n",
       "Technology                                         Business Wire    5  "
      ]
     },
     "execution_count": 5,
     "metadata": {},
     "output_type": "execute_result"
    }
   ],
   "source": [
    "df_clean.groupby('Category').describe()"
   ]
  },
  {
   "cell_type": "code",
   "execution_count": 6,
   "metadata": {},
   "outputs": [
    {
     "data": {
      "text/plain": [
       "The article requested cannot be found! Please refresh your browser or go back  ...    21\n",
       "Posted by Shoaib-ur-Rehman Siddiqui                                                   11\n",
       "Posted by Imaduddin                                                                   11\n",
       "Posted by Parvez Jabri                                                                10\n",
       "Business Highlights                                                                   10\n",
       "(click the phrases to see a list)                                                      7\n",
       "Business Wire                                                                          7\n",
       "What you need to know before markets open                                              7\n",
       "10 Things to Know for Today                                                            6\n",
       "PR Newswire                                                                            6\n",
       "Name: News Title, dtype: int64"
      ]
     },
     "execution_count": 6,
     "metadata": {},
     "output_type": "execute_result"
    }
   ],
   "source": [
    "df_clean['News Title'].value_counts()[df_clean['News Title'].value_counts() > 1].head(10)"
   ]
  },
  {
   "cell_type": "code",
   "execution_count": 7,
   "metadata": {},
   "outputs": [],
   "source": [
    "#remove news title text contains article requested cannot be found\n",
    "df_clean = df_clean.drop(df_clean[df_clean['News Title'].str.contains('article requested cannot be found')].index)"
   ]
  },
  {
   "cell_type": "code",
   "execution_count": 8,
   "metadata": {},
   "outputs": [],
   "source": [
    "#remove news title text contains Posted by\n",
    "df_clean = df_clean.drop(df_clean[df_clean['News Title'].str.contains('Posted by')].index)"
   ]
  },
  {
   "cell_type": "code",
   "execution_count": 9,
   "metadata": {},
   "outputs": [],
   "source": [
    "#remove news title text contains PR Newswire\n",
    "df_clean = df_clean.drop(df_clean[df_clean['News Title'].str.contains('PR Newswire')].index)"
   ]
  },
  {
   "cell_type": "code",
   "execution_count": 10,
   "metadata": {},
   "outputs": [],
   "source": [
    "#remove news title text contains Business wire\n",
    "df_clean = df_clean.drop(df_clean[df_clean['News Title'].str.contains('Business Wire')].index)"
   ]
  },
  {
   "cell_type": "code",
   "execution_count": 11,
   "metadata": {},
   "outputs": [],
   "source": [
    "#remove news title text contains click the phrases to see a list\n",
    "df_clean = df_clean.drop(df_clean[df_clean['News Title'].str.contains('click the phrases to see a list')].index)"
   ]
  },
  {
   "cell_type": "code",
   "execution_count": 12,
   "metadata": {},
   "outputs": [],
   "source": [
    "#remove news title text contains Share this on:\n",
    "df_clean = df_clean.drop(df_clean[df_clean['News Title'].str.contains('Share this on:')].index)"
   ]
  },
  {
   "cell_type": "code",
   "execution_count": 13,
   "metadata": {},
   "outputs": [
    {
     "data": {
      "text/plain": [
       "Business Highlights                          10\n",
       "What you need to know before markets open     7\n",
       "10 Things to Know for Today                   6\n",
       "The Daily Dish                                5\n",
       "India Morning Call-Global Markets             5\n",
       "Business briefs                               5\n",
       "Change text size for the story                5\n",
       "Perez Recommends                              4\n",
       "Most Popular Stories                          4\n",
       "Sara Stewart                                  4\n",
       "Name: News Title, dtype: int64"
      ]
     },
     "execution_count": 13,
     "metadata": {},
     "output_type": "execute_result"
    }
   ],
   "source": [
    "df_clean['News Title'].value_counts()[df_clean['News Title'].value_counts() > 1].head(10)"
   ]
  },
  {
   "cell_type": "markdown",
   "metadata": {},
   "source": [
    "### 1.3 Check duplicates"
   ]
  },
  {
   "cell_type": "code",
   "execution_count": 14,
   "metadata": {},
   "outputs": [
    {
     "data": {
      "text/html": [
       "<div>\n",
       "<style scoped>\n",
       "    .dataframe tbody tr th:only-of-type {\n",
       "        vertical-align: middle;\n",
       "    }\n",
       "\n",
       "    .dataframe tbody tr th {\n",
       "        vertical-align: top;\n",
       "    }\n",
       "\n",
       "    .dataframe thead tr th {\n",
       "        text-align: left;\n",
       "    }\n",
       "\n",
       "    .dataframe thead tr:last-of-type th {\n",
       "        text-align: right;\n",
       "    }\n",
       "</style>\n",
       "<table border=\"1\" class=\"dataframe\">\n",
       "  <thead>\n",
       "    <tr>\n",
       "      <th></th>\n",
       "      <th colspan=\"4\" halign=\"left\">News Title</th>\n",
       "    </tr>\n",
       "    <tr>\n",
       "      <th></th>\n",
       "      <th>count</th>\n",
       "      <th>unique</th>\n",
       "      <th>top</th>\n",
       "      <th>freq</th>\n",
       "    </tr>\n",
       "    <tr>\n",
       "      <th>Category</th>\n",
       "      <th></th>\n",
       "      <th></th>\n",
       "      <th></th>\n",
       "      <th></th>\n",
       "    </tr>\n",
       "  </thead>\n",
       "  <tbody>\n",
       "    <tr>\n",
       "      <th>Business</th>\n",
       "      <td>17665</td>\n",
       "      <td>17547</td>\n",
       "      <td>Business Highlights</td>\n",
       "      <td>8</td>\n",
       "    </tr>\n",
       "    <tr>\n",
       "      <th>Entertainment</th>\n",
       "      <td>23937</td>\n",
       "      <td>23770</td>\n",
       "      <td>The Daily Dish</td>\n",
       "      <td>5</td>\n",
       "    </tr>\n",
       "    <tr>\n",
       "      <th>Medical</th>\n",
       "      <td>7086</td>\n",
       "      <td>7039</td>\n",
       "      <td>'Young' blood injections help aging mice get s...</td>\n",
       "      <td>3</td>\n",
       "    </tr>\n",
       "    <tr>\n",
       "      <th>Technology</th>\n",
       "      <td>16761</td>\n",
       "      <td>16659</td>\n",
       "      <td>Nokia to be renamed Microsoft Mobile</td>\n",
       "      <td>3</td>\n",
       "    </tr>\n",
       "  </tbody>\n",
       "</table>\n",
       "</div>"
      ],
      "text/plain": [
       "              News Title         \\\n",
       "                   count unique   \n",
       "Category                          \n",
       "Business           17665  17547   \n",
       "Entertainment      23937  23770   \n",
       "Medical             7086   7039   \n",
       "Technology         16761  16659   \n",
       "\n",
       "                                                                       \n",
       "                                                             top freq  \n",
       "Category                                                               \n",
       "Business                                     Business Highlights    8  \n",
       "Entertainment                                     The Daily Dish    5  \n",
       "Medical        'Young' blood injections help aging mice get s...    3  \n",
       "Technology                  Nokia to be renamed Microsoft Mobile    3  "
      ]
     },
     "execution_count": 14,
     "metadata": {},
     "output_type": "execute_result"
    }
   ],
   "source": [
    "df_clean.groupby('Category').describe()"
   ]
  },
  {
   "cell_type": "markdown",
   "metadata": {},
   "source": [
    "**There are some duplicate entries for each Category, 150 for Business, 187 for Entertainment, 49 for Medical and 110 for Technology. Let's remove them by category**"
   ]
  },
  {
   "cell_type": "code",
   "execution_count": 15,
   "metadata": {},
   "outputs": [],
   "source": [
    "business = df_clean[df_clean['Category'] == 'Business'].copy()\n",
    "entertainment = df_clean[df_clean['Category'] == 'Entertainment'].copy()\n",
    "medical = df_clean[df_clean['Category'] == 'Medical'].copy()\n",
    "technology = df_clean[df_clean['Category'] == 'Technology'].copy()\n",
    "\n",
    "frames = [business, entertainment, medical, technology]"
   ]
  },
  {
   "cell_type": "code",
   "execution_count": 16,
   "metadata": {},
   "outputs": [],
   "source": [
    "#remove duplicate for each category\n",
    "for frame in frames:\n",
    "    frame.drop_duplicates(subset='News Title', inplace=True)"
   ]
  },
  {
   "cell_type": "code",
   "execution_count": 17,
   "metadata": {},
   "outputs": [
    {
     "data": {
      "text/html": [
       "<div>\n",
       "<style scoped>\n",
       "    .dataframe tbody tr th:only-of-type {\n",
       "        vertical-align: middle;\n",
       "    }\n",
       "\n",
       "    .dataframe tbody tr th {\n",
       "        vertical-align: top;\n",
       "    }\n",
       "\n",
       "    .dataframe thead tr th {\n",
       "        text-align: left;\n",
       "    }\n",
       "\n",
       "    .dataframe thead tr:last-of-type th {\n",
       "        text-align: right;\n",
       "    }\n",
       "</style>\n",
       "<table border=\"1\" class=\"dataframe\">\n",
       "  <thead>\n",
       "    <tr>\n",
       "      <th></th>\n",
       "      <th colspan=\"4\" halign=\"left\">News Title</th>\n",
       "    </tr>\n",
       "    <tr>\n",
       "      <th></th>\n",
       "      <th>count</th>\n",
       "      <th>unique</th>\n",
       "      <th>top</th>\n",
       "      <th>freq</th>\n",
       "    </tr>\n",
       "    <tr>\n",
       "      <th>Category</th>\n",
       "      <th></th>\n",
       "      <th></th>\n",
       "      <th></th>\n",
       "      <th></th>\n",
       "    </tr>\n",
       "  </thead>\n",
       "  <tbody>\n",
       "    <tr>\n",
       "      <th>Business</th>\n",
       "      <td>17547</td>\n",
       "      <td>17547</td>\n",
       "      <td>Forex - USD/CAD remains rangebound after U.S. ...</td>\n",
       "      <td>1</td>\n",
       "    </tr>\n",
       "    <tr>\n",
       "      <th>Entertainment</th>\n",
       "      <td>23770</td>\n",
       "      <td>23770</td>\n",
       "      <td>VIDEO: Mother Bear Grabs Cub Off Busy BC Highway</td>\n",
       "      <td>1</td>\n",
       "    </tr>\n",
       "    <tr>\n",
       "      <th>Medical</th>\n",
       "      <td>7039</td>\n",
       "      <td>7039</td>\n",
       "      <td>Infusion of young blood recharges brains of ol...</td>\n",
       "      <td>1</td>\n",
       "    </tr>\n",
       "    <tr>\n",
       "      <th>Technology</th>\n",
       "      <td>16659</td>\n",
       "      <td>16659</td>\n",
       "      <td>Samsung launches the ultra-thin Galaxy Tab S a...</td>\n",
       "      <td>1</td>\n",
       "    </tr>\n",
       "  </tbody>\n",
       "</table>\n",
       "</div>"
      ],
      "text/plain": [
       "              News Title         \\\n",
       "                   count unique   \n",
       "Category                          \n",
       "Business           17547  17547   \n",
       "Entertainment      23770  23770   \n",
       "Medical             7039   7039   \n",
       "Technology         16659  16659   \n",
       "\n",
       "                                                                       \n",
       "                                                             top freq  \n",
       "Category                                                               \n",
       "Business       Forex - USD/CAD remains rangebound after U.S. ...    1  \n",
       "Entertainment   VIDEO: Mother Bear Grabs Cub Off Busy BC Highway    1  \n",
       "Medical        Infusion of young blood recharges brains of ol...    1  \n",
       "Technology     Samsung launches the ultra-thin Galaxy Tab S a...    1  "
      ]
     },
     "execution_count": 17,
     "metadata": {},
     "output_type": "execute_result"
    }
   ],
   "source": [
    "df_clean = pd.concat(frames)\n",
    "df_clean.groupby('Category').describe()"
   ]
  },
  {
   "cell_type": "markdown",
   "metadata": {},
   "source": [
    "**duplicates have been removed**"
   ]
  },
  {
   "cell_type": "markdown",
   "metadata": {},
   "source": [
    "### 1.4 Normalize Title"
   ]
  },
  {
   "cell_type": "markdown",
   "metadata": {},
   "source": [
    "* Lowercase all words\n",
    "* convert shortform into long form\n",
    "* remove punctuations and symbols"
   ]
  },
  {
   "cell_type": "code",
   "execution_count": 45,
   "metadata": {},
   "outputs": [],
   "source": [
    "# Lowercase all words\n",
    "df_clean['News Title'] = df_clean['News Title'].apply(lambda x: x.lower())"
   ]
  },
  {
   "cell_type": "code",
   "execution_count": 46,
   "metadata": {},
   "outputs": [],
   "source": [
    "# Dictionary of short form words and mispellings\n",
    "short_forms_dict = {\"ain't\": \"is not\", \"aren't\": \"are not\",\"can't\": \"cannot\", \n",
    "                    \"'cause\": \"because\", \"could've\": \"could have\", \"couldn't\": \"could not\", \n",
    "                    \"didn't\": \"did not\",  \"doesn't\": \"does not\", \"don't\": \"do not\", \"hadn't\": \"had not\", \n",
    "                    \"hasn't\": \"has not\", \"haven't\": \"have not\", \"he'd\": \"he would\",\"he'll\": \"he will\", \n",
    "                    \"he's\": \"he is\", \"how'd\": \"how did\", \"how'd'y\": \"how do you\", \"how'll\": \"how will\", \n",
    "                    \"how's\": \"how is\",  \"I'd\": \"I would\", \"I'd've\": \"I would have\", \"I'll\": \"I will\", \n",
    "                    \"I'll've\": \"I will have\",\"I'm\": \"I am\", \"I've\": \"I have\", \"i'd\": \"i would\", \n",
    "                    \"i'd've\": \"i would have\", \"i'll\": \"i will\",  \"i'll've\": \"i will have\",\"i'm\": \"i am\", \n",
    "                    \"i've\": \"i have\", \"isn't\": \"is not\", \"it'd\": \"it would\", \"it'd've\": \"it would have\", \n",
    "                    \"it'll\": \"it will\", \"it'll've\": \"it will have\",\"it's\": \"it is\", \"let's\": \"let us\", \n",
    "                    \"ma'am\": \"madam\", \"mayn't\": \"may not\", \"might've\": \"might have\",\"mightn't\": \"might not\",\n",
    "                    \"mightn't've\": \"might not have\", \"must've\": \"must have\", \"mustn't\": \"must not\", \n",
    "                    \"mustn't've\": \"must not have\", \"needn't\": \"need not\", \"needn't've\": \"need not have\",\n",
    "                    \"o'clock\": \"of the clock\", \"oughtn't\": \"ought not\", \"oughtn't've\": \"ought not have\", \n",
    "                    \"shan't\": \"shall not\", \"sha'n't\": \"shall not\", \"shan't've\": \"shall not have\", \n",
    "                    \"she'd\": \"she would\", \"she'd've\": \"she would have\", \"she'll\": \"she will\", \n",
    "                    \"she'll've\": \"she will have\", \"she's\": \"she is\", \"should've\": \"should have\", \n",
    "                    \"shouldn't\": \"should not\", \"shouldn't've\": \"should not have\", \"so've\": \"so have\",\n",
    "                    \"so's\": \"so as\", \"this's\": \"this is\",\"that'd\": \"that would\", \"that'd've\": \"that would have\", \n",
    "                    \"that's\": \"that is\", \"there'd\": \"there would\", \"there'd've\": \"there would have\", \n",
    "                    \"there's\": \"there is\", \"here's\": \"here is\",\"they'd\": \"they would\", \n",
    "                    \"they'd've\": \"they would have\", \"they'll\": \"they will\", \"they'll've\": \"they will have\", \n",
    "                    \"they're\": \"they are\", \"they've\": \"they have\", \"to've\": \"to have\", \"wasn't\": \"was not\", \n",
    "                    \"we'd\": \"we would\", \"we'd've\": \"we would have\", \"we'll\": \"we will\", \n",
    "                    \"we'll've\": \"we will have\", \"we're\": \"we are\", \"we've\": \"we have\", \n",
    "                    \"weren't\": \"were not\", \"what'll\": \"what will\", \"what'll've\": \"what will have\", \n",
    "                    \"what're\": \"what are\",  \"what's\": \"what is\", \"what've\": \"what have\", \n",
    "                    \"when's\": \"when is\", \"when've\": \"when have\", \"where'd\": \"where did\", \n",
    "                    \"where's\": \"where is\", \"where've\": \"where have\", \"who'll\": \"who will\", \n",
    "                    \"who'll've\": \"who will have\", \"who's\": \"who is\", \"who've\": \"who have\", \"why's\": \"why is\", \n",
    "                    \"why've\": \"why have\", \"will've\": \"will have\", \"won't\": \"will not\", \"won't've\": \"will not have\", \n",
    "                    \"would've\": \"would have\", \"wouldn't\": \"would not\", \"wouldn't've\": \"would not have\", \n",
    "                    \"y'all\": \"you all\", \"y'all'd\": \"you all would\",\"y'all'd've\": \"you all would have\",\n",
    "                    \"y'all're\": \"you all are\",\"y'all've\": \"you all have\",\"you'd\": \"you would\", \n",
    "                    \"you'd've\": \"you would have\", \"you'll\": \"you will\", \"you'll've\": \"you will have\", \n",
    "                    \"you're\": \"you are\", \"you've\": \"you have\"}"
   ]
  },
  {
   "cell_type": "code",
   "execution_count": 48,
   "metadata": {},
   "outputs": [],
   "source": [
    "import re\n",
    "\n",
    "def clean_shortforms(text):\n",
    "    clean_text = text\n",
    "    for shortform in short_forms_dict.keys():\n",
    "        if re.search(shortform, text):\n",
    "            clean_text = re.sub(shortform, short_forms_dict[shortform], text)\n",
    "    return clean_text\n",
    "\n",
    "# fix short forms\n",
    "df_clean['News Title'] = df_clean['News Title'].apply(lambda x: clean_shortforms(x))"
   ]
  },
  {
   "cell_type": "code",
   "execution_count": 49,
   "metadata": {},
   "outputs": [],
   "source": [
    "symbols = [',', '.', '\"', ':', ')', '(', '-', '!', '?', '|', \n",
    "           ';', \"'\", '$', '&', '/', '[', ']', '>', '%', '=', \n",
    "           '#', '*', '+', '\\\\', '•',  '~', '@', '£', '·', '_', \n",
    "           '{', '}', '©', '^', '®', '`',  '<', '→', '°', '€', \n",
    "           '™', '›',  '♥', '←', '×', '§', '″', '′', 'Â', '█', \n",
    "           '½', 'à', '…', '“', '★', '”', '–', '●', 'â', '►', \n",
    "           '−', '¢', '²', '¬', '░', '¶', '↑', '±', '¿', '▾', \n",
    "           '═', '¦', '║', '―', '¥', '▓', '—', '‹', '─', '▒', '：', \n",
    "           '¼', '⊕', '▼', '▪', '†', '■', '’', '▀', '¨', '▄', '♫', \n",
    "           '☆', 'é', '¯', '♦', '¤', '▲', 'è', '¸', '¾', 'Ã', '⋅', \n",
    "           '‘', '∞', '∙', '）', '↓', '、', '│', '（', '»', '，', '♪', \n",
    "           '╩', '╚', '³', '・', '╦', '╣', '╔', '╗', '▬', '❤', 'ï', 'Ø', \n",
    "           '¹', '≤', '‡', '√', ]"
   ]
  },
  {
   "cell_type": "code",
   "execution_count": 50,
   "metadata": {},
   "outputs": [],
   "source": [
    "def clean_symbol(text):\n",
    "    text = str(text)\n",
    "    for symbol in symbols:\n",
    "        text = text.replace(symbol, '')\n",
    "    return text\n",
    "\n",
    "# remove symbols and punctuations \n",
    "df_clean['News Title'] = df_clean['News Title'].apply(lambda x: clean_symbol(x))"
   ]
  },
  {
   "cell_type": "code",
   "execution_count": 18,
   "metadata": {},
   "outputs": [],
   "source": [
    "# save into csv\n",
    "df_clean.to_csv('data/02_intermediate/cleaned_data.csv')"
   ]
  },
  {
   "cell_type": "markdown",
   "metadata": {},
   "source": [
    "## 2. Data Exploration"
   ]
  },
  {
   "cell_type": "markdown",
   "metadata": {},
   "source": [
    "### 2.1 Check the Distribution"
   ]
  },
  {
   "cell_type": "code",
   "execution_count": 51,
   "metadata": {},
   "outputs": [
    {
     "data": {
      "image/png": "[encoded data removed]",
      "text/plain": [
       "<Figure size 432x288 with 1 Axes>"
      ]
     },
     "metadata": {
      "needs_background": "light"
     },
     "output_type": "display_data"
    }
   ],
   "source": [
    "df_clean['Category'].value_counts().plot(kind='barh');"
   ]
  },
  {
   "cell_type": "markdown",
   "metadata": {},
   "source": [
    "**Most samples belongs to Entertainment Category. A sizable number of samples belongs to Technology and Business Category. about 10%-11% belonged to strongly Medical Category**"
   ]
  },
  {
   "cell_type": "markdown",
   "metadata": {},
   "source": [
    "## 3. Data Modelling & Prediction"
   ]
  },
  {
   "cell_type": "code",
   "execution_count": 52,
   "metadata": {},
   "outputs": [],
   "source": [
    "from sklearn.feature_extraction.text import CountVectorizer, TfidfTransformer\n",
    "from sklearn.model_selection import train_test_split\n",
    "from sklearn.pipeline import Pipeline\n",
    "from sklearn.ensemble import RandomForestClassifier\n",
    "from sklearn.naive_bayes import MultinomialNB\n",
    "from sklearn.linear_model import LogisticRegression, SGDClassifier\n",
    "from sklearn.metrics import confusion_matrix, classification_report\n",
    "\n",
    "# suppress bs4 warnings\n",
    "import warnings\n",
    "warnings.filterwarnings(\"ignore\", category=UserWarning, module='bs4')"
   ]
  },
  {
   "cell_type": "code",
   "execution_count": 53,
   "metadata": {},
   "outputs": [],
   "source": [
    "x_train, x_test, y_train, y_test = train_test_split(df_clean['News Title'], df_clean['Category'], test_size=0.2)\n",
    "\n",
    "x_train.to_csv('data/03_processed/x_train.csv', header=False)\n",
    "y_train.to_csv('data/03_processed/y_train.csv', header=False)\n",
    "x_test.to_csv('data/03_processed/x_test.csv', header=False)\n",
    "y_test.to_csv('data/03_processed/y_test.csv', header=False)"
   ]
  },
  {
   "cell_type": "markdown",
   "metadata": {},
   "source": [
    "### 3.1 Logistic Regression"
   ]
  },
  {
   "cell_type": "code",
   "execution_count": 54,
   "metadata": {},
   "outputs": [],
   "source": [
    "reglog_pipe = Pipeline([\n",
    "    ('bow', CountVectorizer(stop_words='english')), # strings to token integer counts\n",
    "    ('tfidf', TfidfTransformer()), # integer counts to weighted TF-IDF scores\n",
    "    ('classifier', LogisticRegression(solver='liblinear', multi_class='auto')) # train on TF-IDF vectors w/ SGD classifier\n",
    "])\n",
    "\n",
    "reglog_pipe.fit(x_train, y_train);"
   ]
  },
  {
   "cell_type": "markdown",
   "metadata": {},
   "source": [
    "#### 3.1.1 Prediction"
   ]
  },
  {
   "cell_type": "code",
   "execution_count": 55,
   "metadata": {},
   "outputs": [],
   "source": [
    "reglog_predictions = reglog_pipe.predict(x_test);"
   ]
  },
  {
   "cell_type": "code",
   "execution_count": 56,
   "metadata": {},
   "outputs": [
    {
     "name": "stdout",
     "output_type": "stream",
     "text": [
      "               precision    recall  f1-score   support\n",
      "\n",
      "     Business       0.89      0.89      0.89      3506\n",
      "Entertainment       0.92      0.98      0.95      4841\n",
      "      Medical       0.95      0.80      0.87      1351\n",
      "   Technology       0.90      0.88      0.89      3305\n",
      "\n",
      "    micro avg       0.91      0.91      0.91     13003\n",
      "    macro avg       0.92      0.89      0.90     13003\n",
      " weighted avg       0.91      0.91      0.91     13003\n",
      "\n"
     ]
    }
   ],
   "source": [
    "reglog_report = classification_report(y_test, reglog_predictions)\n",
    "print(reglog_report)"
   ]
  },
  {
   "cell_type": "markdown",
   "metadata": {},
   "source": [
    "#### 3.1.2 Confusion Matrix"
   ]
  },
  {
   "cell_type": "code",
   "execution_count": 57,
   "metadata": {},
   "outputs": [
    {
     "data": {
      "image/png": "[encoded data removed]",
      "text/plain": [
       "<Figure size 432x288 with 2 Axes>"
      ]
     },
     "metadata": {
      "needs_background": "light"
     },
     "output_type": "display_data"
    }
   ],
   "source": [
    "cm = confusion_matrix(y_test, reglog_predictions)\n",
    "\n",
    "cm = cm/cm.astype(np.float).sum(axis=0)\n",
    "\n",
    "# Transform to df for easier plotting\n",
    "cm_df = pd.DataFrame(cm,\n",
    "                     index = ['Business','Entertainment', 'Medical', 'Technology'], \n",
    "                     columns = ['Business','Entertainment', 'Medical', 'Technology'])\n",
    "\n",
    "ax = sns.heatmap(cm_df, annot=True, cmap=\"YlGnBu\")\n",
    "bottom, top = ax.get_ylim()\n",
    "ax.set_ylim(bottom + 0.5, top - 0.5)\n",
    "plt.ylabel('True label')\n",
    "plt.xlabel('Predicted label')\n",
    "plt.show()"
   ]
  },
  {
   "cell_type": "markdown",
   "metadata": {},
   "source": [
    "### 3.2 Multinomial Naive Bayes"
   ]
  },
  {
   "cell_type": "code",
   "execution_count": 58,
   "metadata": {},
   "outputs": [],
   "source": [
    "nb_pipe = Pipeline([\n",
    "    ('bow', CountVectorizer(stop_words='english')), # strings to token integer counts\n",
    "    ('tfidf', TfidfTransformer()), # integer counts to weighted TF-IDF scores\n",
    "    ('classifier', MultinomialNB()) # train on TF-IDF vectors w/ Naive Bayes classifier\n",
    "])\n",
    "\n",
    "nb_pipe.fit(x_train, y_train)\n",
    "nb_train_score = nb_pipe.score(x_train, y_train)\n",
    "nb_test_score = nb_pipe.score(x_test, y_test)"
   ]
  },
  {
   "cell_type": "markdown",
   "metadata": {},
   "source": [
    "#### 3.2.1 Prediction"
   ]
  },
  {
   "cell_type": "code",
   "execution_count": 59,
   "metadata": {},
   "outputs": [],
   "source": [
    "nb_predictions = nb_pipe.predict(x_test);"
   ]
  },
  {
   "cell_type": "code",
   "execution_count": 60,
   "metadata": {},
   "outputs": [
    {
     "name": "stdout",
     "output_type": "stream",
     "text": [
      "               precision    recall  f1-score   support\n",
      "\n",
      "     Business       0.87      0.89      0.88      3506\n",
      "Entertainment       0.92      0.97      0.95      4841\n",
      "      Medical       0.98      0.73      0.83      1351\n",
      "   Technology       0.89      0.88      0.88      3305\n",
      "\n",
      "    micro avg       0.90      0.90      0.90     13003\n",
      "    macro avg       0.91      0.87      0.89     13003\n",
      " weighted avg       0.90      0.90      0.90     13003\n",
      "\n"
     ]
    }
   ],
   "source": [
    "nb_report = classification_report(y_test, nb_predictions)\n",
    "print(nb_report)"
   ]
  },
  {
   "cell_type": "markdown",
   "metadata": {},
   "source": [
    "#### 3.2.2 Confusion Matrix"
   ]
  },
  {
   "cell_type": "code",
   "execution_count": 61,
   "metadata": {},
   "outputs": [
    {
     "data": {
      "image/png": "[encoded data removed]",
      "text/plain": [
       "<Figure size 432x288 with 2 Axes>"
      ]
     },
     "metadata": {
      "needs_background": "light"
     },
     "output_type": "display_data"
    }
   ],
   "source": [
    "cm = confusion_matrix(y_test, nb_predictions)\n",
    "\n",
    "cm = cm/cm.astype(np.float).sum(axis=0)\n",
    "\n",
    "# Transform to df for easier plotting\n",
    "cm_df = pd.DataFrame(cm,\n",
    "                     index = ['Business','Entertainment', 'Medical', 'Technology'], \n",
    "                     columns = ['Business','Entertainment', 'Medical', 'Technology'])\n",
    "\n",
    "ax = sns.heatmap(cm_df, annot=True, cmap=\"YlGnBu\")\n",
    "bottom, top = ax.get_ylim()\n",
    "ax.set_ylim(bottom + 0.5, top - 0.5)\n",
    "plt.ylabel('True label')\n",
    "plt.xlabel('Predicted label')\n",
    "plt.show()"
   ]
  },
  {
   "cell_type": "markdown",
   "metadata": {},
   "source": [
    "### 3.3 Random Forest Classifier"
   ]
  },
  {
   "cell_type": "code",
   "execution_count": 62,
   "metadata": {},
   "outputs": [
    {
     "name": "stderr",
     "output_type": "stream",
     "text": [
      "C:\\Users\\BPS\\Anaconda3\\lib\\site-packages\\sklearn\\ensemble\\forest.py:246: FutureWarning: The default value of n_estimators will change from 10 in version 0.20 to 100 in 0.22.\n",
      "  \"10 in version 0.20 to 100 in 0.22.\", FutureWarning)\n"
     ]
    }
   ],
   "source": [
    "rf_pipe = Pipeline([\n",
    "    ('bow', CountVectorizer(stop_words='english')), # strings to token integer counts\n",
    "    ('tfidf', TfidfTransformer()), # integer counts to weighted TF-IDF scores\n",
    "    ('classifier', RandomForestClassifier()) # train on TF-IDF vectors w/ Random Forest classifier\n",
    "])\n",
    "\n",
    "rf_pipe.fit(x_train, y_train);"
   ]
  },
  {
   "cell_type": "markdown",
   "metadata": {},
   "source": [
    "#### 3.3.1 Prediction"
   ]
  },
  {
   "cell_type": "code",
   "execution_count": 63,
   "metadata": {},
   "outputs": [],
   "source": [
    "rf_predictions = rf_pipe.predict(x_test);\n"
   ]
  },
  {
   "cell_type": "code",
   "execution_count": 64,
   "metadata": {},
   "outputs": [
    {
     "name": "stdout",
     "output_type": "stream",
     "text": [
      "               precision    recall  f1-score   support\n",
      "\n",
      "     Business       0.85      0.86      0.86      3506\n",
      "Entertainment       0.88      0.95      0.91      4841\n",
      "      Medical       0.90      0.77      0.83      1351\n",
      "   Technology       0.90      0.83      0.86      3305\n",
      "\n",
      "    micro avg       0.88      0.88      0.88     13003\n",
      "    macro avg       0.88      0.85      0.86     13003\n",
      " weighted avg       0.88      0.88      0.88     13003\n",
      "\n"
     ]
    }
   ],
   "source": [
    "rf_report = classification_report(y_test, rf_predictions)\n",
    "print(rf_report)"
   ]
  },
  {
   "cell_type": "markdown",
   "metadata": {},
   "source": [
    "#### 3.3.2 Confusion Matrix"
   ]
  },
  {
   "cell_type": "code",
   "execution_count": 65,
   "metadata": {},
   "outputs": [
    {
     "data": {
      "image/png": "[encoded data removed]",
      "text/plain": [
       "<Figure size 432x288 with 2 Axes>"
      ]
     },
     "metadata": {
      "needs_background": "light"
     },
     "output_type": "display_data"
    }
   ],
   "source": [
    "cm = confusion_matrix(y_test, rf_predictions)\n",
    "\n",
    "cm = cm/cm.astype(np.float).sum(axis=0)\n",
    "\n",
    "# Transform to df for easier plotting\n",
    "cm_df = pd.DataFrame(cm,\n",
    "                     index = ['Business','Entertainment', 'Medical', 'Technology'], \n",
    "                     columns = ['Business','Entertainment', 'Medical', 'Technology'])\n",
    "\n",
    "ax = sns.heatmap(cm_df, annot=True, cmap=\"YlGnBu\")\n",
    "bottom, top = ax.get_ylim()\n",
    "ax.set_ylim(bottom + 0.5, top - 0.5)\n",
    "plt.ylabel('True label')\n",
    "plt.xlabel('Predicted label')\n",
    "plt.show()"
   ]
  },
  {
   "cell_type": "markdown",
   "metadata": {},
   "source": [
    "### 3.5 Summary"
   ]
  },
  {
   "cell_type": "code",
   "execution_count": 66,
   "metadata": {},
   "outputs": [
    {
     "name": "stdout",
     "output_type": "stream",
     "text": [
      "---------------------------------------\n",
      "Logistic Regression Result\n",
      "---------------------------------------\n",
      "               precision    recall  f1-score   support\n",
      "\n",
      "     Business       0.89      0.89      0.89      3506\n",
      "Entertainment       0.92      0.98      0.95      4841\n",
      "      Medical       0.95      0.80      0.87      1351\n",
      "   Technology       0.90      0.88      0.89      3305\n",
      "\n",
      "    micro avg       0.91      0.91      0.91     13003\n",
      "    macro avg       0.92      0.89      0.90     13003\n",
      " weighted avg       0.91      0.91      0.91     13003\n",
      "\n",
      "\n",
      "---------------------------------------\n",
      "Naive Bayes Result\n",
      "---------------------------------------\n",
      "               precision    recall  f1-score   support\n",
      "\n",
      "     Business       0.87      0.89      0.88      3506\n",
      "Entertainment       0.92      0.97      0.95      4841\n",
      "      Medical       0.98      0.73      0.83      1351\n",
      "   Technology       0.89      0.88      0.88      3305\n",
      "\n",
      "    micro avg       0.90      0.90      0.90     13003\n",
      "    macro avg       0.91      0.87      0.89     13003\n",
      " weighted avg       0.90      0.90      0.90     13003\n",
      "\n",
      "\n",
      "---------------------------------------\n",
      "Random Forest Classification Result\n",
      "---------------------------------------\n",
      "               precision    recall  f1-score   support\n",
      "\n",
      "     Business       0.85      0.86      0.86      3506\n",
      "Entertainment       0.88      0.95      0.91      4841\n",
      "      Medical       0.90      0.77      0.83      1351\n",
      "   Technology       0.90      0.83      0.86      3305\n",
      "\n",
      "    micro avg       0.88      0.88      0.88     13003\n",
      "    macro avg       0.88      0.85      0.86     13003\n",
      " weighted avg       0.88      0.88      0.88     13003\n",
      "\n",
      "\n"
     ]
    }
   ],
   "source": [
    "print('---------------------------------------')\n",
    "print('Logistic Regression Result')\n",
    "print('---------------------------------------')\n",
    "print(reglog_report)\n",
    "print()\n",
    "print('---------------------------------------')\n",
    "print('Naive Bayes Result')\n",
    "print('---------------------------------------')\n",
    "print(nb_report)\n",
    "print()\n",
    "print('---------------------------------------')\n",
    "print('Random Forest Classification Result')\n",
    "print('---------------------------------------')\n",
    "print(rf_report)\n",
    "print()"
   ]
  },
  {
   "cell_type": "markdown",
   "metadata": {},
   "source": [
    "## 4. Conclusion\n",
    "On average our models are about **90.75% accurate**. While this may mean that the machine cannot predict every comments with 100% accuracy. It can really depend on the data and how it has been processed.\n",
    "\n",
    "Out of the 4 used in this project, the most **accurate and precise was the Logistic Regression**, with accuracy of 92%.\n",
    "\n",
    "Logistic Regression **highest recall**, with recall score 89%. This means that the models actually calculates how many of the Actual Positives our model capture through labeling it as Positive (True Positive).\n",
    "\n",
    "Logistic Regression has the **highest F1 score**, with f1 score 90%, which means that it defines a relationship between Recall and Precision of a particular model. F1 Scores might be a better measure to use if we need to seek a balance between Precision and Recall and if there is an uneven class distribution (a large number of Actual Negatives)."
   ]
  },
  {
   "cell_type": "code",
   "execution_count": 43,
   "metadata": {},
   "outputs": [],
   "source": [
    "df_output = pd.DataFrame(x_test.copy())\n",
    "df_output['Class'] = y_test\n",
    "df_output['Prediction'] = reglog_predictions"
   ]
  },
  {
   "cell_type": "code",
   "execution_count": 44,
   "metadata": {},
   "outputs": [],
   "source": [
    "df_output.to_csv('data/04_model_output/reglog_output.csv')"
   ]
  }
 ],
 "metadata": {
  "kernelspec": {
   "display_name": "Python 3",
   "language": "python",
   "name": "python3"
  },
  "language_info": {
   "codemirror_mode": {
    "name": "ipython",
    "version": 3
   },
   "file_extension": ".py",
   "mimetype": "text/x-python",
   "name": "python",
   "nbconvert_exporter": "python",
   "pygments_lexer": "ipython3",
   "version": "3.7.1"
  }
 },
 "nbformat": 4,
 "nbformat_minor": 4
}
